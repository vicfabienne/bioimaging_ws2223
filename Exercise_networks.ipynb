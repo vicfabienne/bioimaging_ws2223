{
 "cells": [
  {
   "cell_type": "markdown",
   "source": [
    "# Petal cell network\n",
    "\n",
    "Get the skel-1504-1 1.png image from Moodle. It contains already segmented cells from a petal\n",
    "imprint image (with remaining errors).\n",
    "1. How can you generate a network where neighbouring cells are linked out of this image?\n",
    "Discuss with your colleagues.\n",
    "2. Implement your approach. You may work in a group.\n",
    "3. Get some basic network statistics. How to do this? Start with the average number of\n",
    "neighbouring cells maybe."
   ],
   "metadata": {
    "collapsed": false,
    "pycharm": {
     "name": "#%% md\n"
    }
   }
  },
  {
   "cell_type": "code",
   "execution_count": 1,
   "outputs": [],
   "source": [
    "from skimage.io import imread,imshow\n",
    "from skimage.color import rgb2gray\n",
    "from skimage.filters import threshold_otsu\n",
    "from skimage.morphology import remove_small_objects\n",
    "from skimage.measure import label\n",
    "from skimage.measure import regionprops\n",
    "import pandas as pd\n",
    "import numpy as np\n",
    "from tensorflow import keras"
   ],
   "metadata": {
    "collapsed": false,
    "pycharm": {
     "name": "#%%\n"
    }
   }
  },
  {
   "cell_type": "code",
   "execution_count": 2,
   "outputs": [],
   "source": [
    "petal_sgmntd = imread('Data/skel-1504-1_1.png')"
   ],
   "metadata": {
    "collapsed": false,
    "pycharm": {
     "name": "#%%\n"
    }
   }
  },
  {
   "cell_type": "markdown",
   "source": [
    "How can you make a graph out of the segmented cells?\n",
    "\n",
    "* labeling function (1,2,3...for all cells)\n",
    "* which cells are neighbors?\n",
    "\n",
    "1. idea:\n",
    "    * calculate the middle of every cell\n",
    "    * calculate the distances between middle points\n",
    "2. idea:\n",
    "    * something about borders - borders are a single pixel\n",
    "    * now we need a buffer for filtering\n",
    "    * go over each cell/label\n",
    "    * grow the label (by 2 pixels (5x5 square)\n",
    "    * check overlap (in the matrix)\n",
    "    * get unique labels in the overlap\n",
    "3. idea (perfect approach):\n",
    "    * take border\n",
    "    * remove junction points (sum above 2, those who have more than 2 neighbors)\n",
    "    * label the borders\n",
    "    * label the borders between 2 cells\n",
    "    * make them grow --> you can see between which cells this is a border\n",
    "    * when you have more then 2 neighbors --> you are on a border\n",
    "    * I don't really get it...but he said he would make a slide for next week about it. Maybe you can just try smth (or ask Jakob) for other ideas.\n",
    "        *\n",
    "as soon as the neighboring is done --> list of linked edges --> iGraph --> centroid --> more stuff\n"
   ],
   "metadata": {
    "collapsed": false,
    "pycharm": {
     "name": "#%% md\n"
    }
   }
  }
 ],
 "metadata": {
  "kernelspec": {
   "display_name": "Python 3",
   "language": "python",
   "name": "python3"
  },
  "language_info": {
   "codemirror_mode": {
    "name": "ipython",
    "version": 2
   },
   "file_extension": ".py",
   "mimetype": "text/x-python",
   "name": "python",
   "nbconvert_exporter": "python",
   "pygments_lexer": "ipython2",
   "version": "2.7.6"
  }
 },
 "nbformat": 4,
 "nbformat_minor": 0
}